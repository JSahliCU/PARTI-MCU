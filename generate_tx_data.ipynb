{
 "cells": [
  {
   "cell_type": "code",
   "execution_count": 1,
   "metadata": {},
   "outputs": [
    {
     "name": "stdout",
     "output_type": "stream",
     "text": [
      "File should be 10.80 MB\n"
     ]
    },
    {
     "data": {
      "text/plain": [
       "(array([False, False,  True, ...,  True,  True,  True]), 1024)"
      ]
     },
     "execution_count": 1,
     "metadata": {},
     "output_type": "execute_result"
    }
   ],
   "source": [
    "runtime = 24 # hrs\n",
    "data_rate = 1000 # bps\n",
    "total_bits = runtime * 60 * 60 * data_rate\n",
    "# Make sure the number of bits is divisible by 8 perfectly so the file system doesn't melt itself\n",
    "total_bits += 8 - total_bits % 8\n",
    "print('File should be ' + '{:2.2f}'.format(total_bits / (8 * 1000 * 1000)) + ' MB')\n",
    "\n",
    "import numpy as np\n",
    "\n",
    "from numpy.random import PCG64\n",
    "bg = PCG64(12345678903141592653589793)\n",
    "\n",
    "# generate random data\n",
    "random_data = (bg.random_raw(1024) % 2).astype(bool)\n",
    "\n",
    "random_data, len(random_data)"
   ]
  },
  {
   "cell_type": "code",
   "execution_count": 2,
   "metadata": {},
   "outputs": [
    {
     "data": {
      "text/plain": [
       "(array([ 54, 235,  33, 185, 106, 143, 214, 148,  95, 229,  90,  27,  13,\n",
       "        194, 210,  20,  73, 129,  98, 163, 163, 167, 107, 162, 249, 156,\n",
       "        162,  59,  13,  51,  74,  48,  68,  83,  28, 237, 208, 170, 120,\n",
       "        176, 200, 194,   8, 252, 172, 104, 255,  71, 106, 122, 187, 253,\n",
       "          2,   4, 217, 107, 230,   2, 120, 155, 231, 211,  28, 219,  51,\n",
       "        196, 213, 113,  95, 113, 250,  54, 187,   3, 150, 168, 140, 203,\n",
       "         68, 121, 198, 117, 111, 249, 113, 136,  90, 182, 153, 241,  23,\n",
       "         23, 142,  11,  58, 215, 163, 121, 117, 204, 216, 107,   4,  66,\n",
       "        245, 139,  95, 168,   3,  84,  56,  93, 111, 152, 224,  22,  37,\n",
       "         85,  88, 214, 179, 206, 195, 154, 121, 252, 182, 159], dtype=uint8),\n",
       " 128,\n",
       " 128.0)"
      ]
     },
     "execution_count": 2,
     "metadata": {},
     "output_type": "execute_result"
    }
   ],
   "source": [
    "# pack the bits into a data array of bytes for writing\n",
    "random_data_array = np.packbits(random_data)\n",
    "random_data_array, len(random_data_array), len(random_data) / 8"
   ]
  },
  {
   "cell_type": "code",
   "execution_count": 3,
   "metadata": {},
   "outputs": [],
   "source": [
    "def generate_next_kbit_of_data_as_byte_array(number_of_bytes=128, balance_slice_bits_length=32):\n",
    "    if balance_slice_bits_length % 2 != 0:\n",
    "        raise('Slice of bytes should be divisible by 2')\n",
    "\n",
    "    def calculate_imbalance(array):\n",
    "        return int(np.sum(array) - len(array) / 2)\n",
    "\n",
    "    # Generate a random sequence of bits\n",
    "    bit_array = (bg.random_raw(number_of_bytes * 8) % 2).astype(bool)\n",
    "\n",
    "    # Flip random bits so the stream is DC balanced\n",
    "    # Slice the bit stream into balance_slice_bits_length before balancing \n",
    "    # to guarantee that balance_slice_bits_length number of bits is balanced\n",
    "    points = np.arange(0, len(bit_array), balance_slice_bits_length)\n",
    "    groups = zip(points, np.append(points[1:], [len(bit_array)-1])) \n",
    "\n",
    "    # Flip the bits in groups until the group is balanced\n",
    "    for begin, end in groups:\n",
    "        bit_sequence = bit_array[begin:end]\n",
    "        imbalance_value = calculate_imbalance(bit_sequence)\n",
    "        while imbalance_value > 0:\n",
    "            imbalance_value = calculate_imbalance(bit_sequence)\n",
    "            ones = np.nonzero(bit_sequence)[0]\n",
    "            bits_to_flip = bg.random_raw(imbalance_value) % len(ones)\n",
    "            bit_sequence[ones[bits_to_flip]] = False\n",
    "        while imbalance_value < 0:\n",
    "            imbalance_value = calculate_imbalance(bit_sequence)\n",
    "            zeros = np.nonzero(bit_sequence==0)[0]\n",
    "            bits_to_flip = bg.random_raw(-1 * imbalance_value) % len(zeros)\n",
    "            bit_sequence[zeros[bits_to_flip]] = True\n",
    "    return np.packbits(bit_array)\n",
    "\n",
    "total_bits_to_write = total_bits\n",
    "\n",
    "with open(\"./tx_data\", 'wb') as transmitted_binary:\n",
    "    transmitted_binary.write(generate_next_kbit_of_data_as_byte_array())\n",
    "    total_bits_to_write -= 128 * 8\n",
    "\n",
    "    while total_bits_to_write > 0:\n",
    "        if total_bits_to_write > 128 * 8:\n",
    "            transmitted_binary.write(generate_next_kbit_of_data_as_byte_array())\n",
    "            total_bits_to_write -= 128 * 8\n",
    "        else:\n",
    "            bytes_to_write = int(total_bits_to_write / 8)\n",
    "            transmitted_binary.write(generate_next_kbit_of_data_as_byte_array(bytes_to_write))\n",
    "            total_bits_to_write -= bytes_to_write * 8\n",
    "\n",
    "if total_bits_to_write < 0:\n",
    "    print('Error generating data')"
   ]
  },
  {
   "cell_type": "code",
   "execution_count": 4,
   "metadata": {},
   "outputs": [],
   "source": [
    "number_of_bytes = 6\n",
    "balance_slice_bits_length = 4 * 8\n",
    "\n",
    "if balance_slice_bits_length % 2 != 0:\n",
    "    raise('Slice of bytes should be divisible by 2')\n",
    "\n",
    "def calculate_imbalance(array):\n",
    "    return int(np.sum(array) - len(array) / 2)\n",
    "\n",
    "# Generate a random sequence of bits\n",
    "bit_array = (bg.random_raw(number_of_bytes * 8) % 2).astype(bool)\n",
    "\n",
    "# Flip random bits so the stream is DC balanced\n",
    "# Slice the bit stream into balance_slice_bits_length before balancing \n",
    "# to guarantee that balance_slice_bits_length number of bits is balanced\n",
    "points = np.arange(0, len(bit_array), balance_slice_bits_length)\n",
    "groups = zip(points, np.append(points[1:], [len(bit_array)-1])) \n",
    "\n",
    "# Flip the bits in groups until the group is balanced\n",
    "for begin, end in groups:\n",
    "    bit_sequence = bit_array[begin:end]\n",
    "    imbalance_value = calculate_imbalance(bit_sequence)\n",
    "    while imbalance_value > 0:\n",
    "        imbalance_value = calculate_imbalance(bit_sequence)\n",
    "        ones = np.nonzero(bit_sequence)[0]\n",
    "        bits_to_flip = bg.random_raw(imbalance_value) % len(ones)\n",
    "        bit_sequence[ones[bits_to_flip]] = False\n",
    "    while imbalance_value < 0:\n",
    "        imbalance_value = calculate_imbalance(bit_sequence)\n",
    "        zeros = np.nonzero(bit_sequence==0)[0]\n",
    "        bits_to_flip = bg.random_raw(-1 * imbalance_value) % len(zeros)\n",
    "        bit_sequence[zeros[bits_to_flip]] = True"
   ]
  },
  {
   "cell_type": "code",
   "execution_count": 5,
   "metadata": {},
   "outputs": [
    {
     "data": {
      "text/plain": [
       "array([ 0, 32])"
      ]
     },
     "execution_count": 5,
     "metadata": {},
     "output_type": "execute_result"
    }
   ],
   "source": [
    "points"
   ]
  },
  {
   "cell_type": "code",
   "execution_count": 6,
   "metadata": {},
   "outputs": [
    {
     "data": {
      "text/plain": [
       "False"
      ]
     },
     "execution_count": 6,
     "metadata": {},
     "output_type": "execute_result"
    }
   ],
   "source": [
    "bit_array[len(bit_array)-1]"
   ]
  },
  {
   "cell_type": "code",
   "execution_count": 7,
   "metadata": {},
   "outputs": [
    {
     "ename": "NameError",
     "evalue": "name 'balance_slice_byte_length' is not defined",
     "output_type": "error",
     "traceback": [
      "\u001b[0;31m---------------------------------------------------------------------------\u001b[0m",
      "\u001b[0;31mNameError\u001b[0m                                 Traceback (most recent call last)",
      "\u001b[0;32m/tmp/ipykernel_62501/196792947.py\u001b[0m in \u001b[0;36m<module>\u001b[0;34m\u001b[0m\n\u001b[0;32m----> 1\u001b[0;31m \u001b[0mpoints\u001b[0m \u001b[0;34m=\u001b[0m \u001b[0mnp\u001b[0m\u001b[0;34m.\u001b[0m\u001b[0marange\u001b[0m\u001b[0;34m(\u001b[0m\u001b[0;36m0\u001b[0m\u001b[0;34m,\u001b[0m \u001b[0mlen\u001b[0m\u001b[0;34m(\u001b[0m\u001b[0mbit_array\u001b[0m\u001b[0;34m)\u001b[0m\u001b[0;34m,\u001b[0m \u001b[0mbalance_slice_byte_length\u001b[0m\u001b[0;34m)\u001b[0m\u001b[0;34m\u001b[0m\u001b[0;34m\u001b[0m\u001b[0m\n\u001b[0m\u001b[1;32m      2\u001b[0m \u001b[0mgroups\u001b[0m \u001b[0;34m=\u001b[0m \u001b[0mzip\u001b[0m\u001b[0;34m(\u001b[0m\u001b[0mpoints\u001b[0m\u001b[0;34m,\u001b[0m \u001b[0mnp\u001b[0m\u001b[0;34m.\u001b[0m\u001b[0mappend\u001b[0m\u001b[0;34m(\u001b[0m\u001b[0mpoints\u001b[0m\u001b[0;34m[\u001b[0m\u001b[0;36m1\u001b[0m\u001b[0;34m:\u001b[0m\u001b[0;34m]\u001b[0m\u001b[0;34m,\u001b[0m \u001b[0;34m[\u001b[0m\u001b[0mlen\u001b[0m\u001b[0;34m(\u001b[0m\u001b[0mbit_array\u001b[0m\u001b[0;34m)\u001b[0m\u001b[0;34m-\u001b[0m\u001b[0;36m1\u001b[0m\u001b[0;34m]\u001b[0m\u001b[0;34m)\u001b[0m\u001b[0;34m)\u001b[0m\u001b[0;34m\u001b[0m\u001b[0;34m\u001b[0m\u001b[0m\n\u001b[1;32m      3\u001b[0m \u001b[0;32mfor\u001b[0m \u001b[0mitem\u001b[0m \u001b[0;32min\u001b[0m \u001b[0mgroups\u001b[0m\u001b[0;34m:\u001b[0m\u001b[0;34m\u001b[0m\u001b[0;34m\u001b[0m\u001b[0m\n\u001b[1;32m      4\u001b[0m     \u001b[0mprint\u001b[0m\u001b[0;34m(\u001b[0m\u001b[0mitem\u001b[0m\u001b[0;34m)\u001b[0m\u001b[0;34m\u001b[0m\u001b[0;34m\u001b[0m\u001b[0m\n",
      "\u001b[0;31mNameError\u001b[0m: name 'balance_slice_byte_length' is not defined"
     ]
    }
   ],
   "source": [
    "points = np.arange(0, len(bit_array), balance_slice_byte_length)\n",
    "groups = zip(points, np.append(points[1:], [len(bit_array)-1])) \n",
    "for item in groups:\n",
    "    print(item)"
   ]
  },
  {
   "cell_type": "code",
   "execution_count": null,
   "metadata": {},
   "outputs": [
    {
     "data": {
      "text/plain": [
       "-529"
      ]
     },
     "metadata": {},
     "output_type": "display_data"
    },
    {
     "data": {
      "text/plain": [
       "0"
      ]
     },
     "execution_count": 44,
     "metadata": {},
     "output_type": "execute_result"
    }
   ],
   "source": [
    "number_of_bytes = 128\n",
    "# Generate a random sequence of bits\n",
    "bit_array = (bg.random_raw(number_of_bytes * 8) % 2).astype(bool)\n",
    "# Flip random bits so the stream is DC balanced\n",
    "imbalance_value = np.sum(bit_array) - len(bit_array)\n",
    "display(imbalance_value)\n",
    "while imbalance_value > 0:\n",
    "    imbalance_value = np.sum(bit_array) - len(bit_array)\n",
    "    ones = np.nonzero(bit_array)[0]\n",
    "    bits_to_flip = bg.random_raw(imbalance_value) % len(ones)\n",
    "    bit_array[ones[bits_to_flip]] = False\n",
    "while imbalance_value < 0:\n",
    "    imbalance_value = np.sum(bit_array) - len(bit_array)\n",
    "    zeros = np.nonzero(bit_array==0)[0]\n",
    "    bits_to_flip = bg.random_raw(-1 * imbalance_value) % len(zeros)\n",
    "    bit_array[zeros[bits_to_flip]] = True\n",
    "\n",
    "np.sum(bit_array) - len(bit_array)"
   ]
  },
  {
   "cell_type": "code",
   "execution_count": null,
   "metadata": {},
   "outputs": [
    {
     "data": {
      "text/plain": [
       "0"
      ]
     },
     "execution_count": 45,
     "metadata": {},
     "output_type": "execute_result"
    }
   ],
   "source": [
    "len(bits_to_flip)"
   ]
  },
  {
   "cell_type": "code",
   "execution_count": null,
   "metadata": {},
   "outputs": [
    {
     "data": {
      "text/plain": [
       "(array([6931289548122753817, 5790276192407520242], dtype=uint64), 0)"
      ]
     },
     "execution_count": 46,
     "metadata": {},
     "output_type": "execute_result"
    }
   ],
   "source": [
    "zeros = np.nonzero(bit_array==0)[0]\n",
    "bg.random_raw(2), len(zeros)"
   ]
  },
  {
   "cell_type": "code",
   "execution_count": null,
   "metadata": {},
   "outputs": [
    {
     "data": {
      "text/plain": [
       "(0, array([], dtype=uint64))"
      ]
     },
     "execution_count": 47,
     "metadata": {},
     "output_type": "execute_result"
    }
   ],
   "source": [
    "imbalance_value, bg.random_raw(-1 * imbalance_value) % len(zeros)"
   ]
  },
  {
   "cell_type": "code",
   "execution_count": null,
   "metadata": {},
   "outputs": [
    {
     "data": {
      "text/plain": [
       "(86401024, 86400008)"
      ]
     },
     "execution_count": 48,
     "metadata": {},
     "output_type": "execute_result"
    }
   ],
   "source": [
    "# Check that the written data makes sense\n",
    "with open(\"tx_data\", 'rb') as transmitted_binary:\n",
    "    transmitted_array = np.asarray(bytearray(transmitted_binary.read()))\n",
    "\n",
    "transmitted_bits = np.unpackbits(transmitted_array)\n",
    "\n",
    "len(transmitted_bits), total_bits"
   ]
  }
 ],
 "metadata": {
  "kernelspec": {
   "display_name": "Python 3",
   "language": "python",
   "name": "python3"
  },
  "language_info": {
   "codemirror_mode": {
    "name": "ipython",
    "version": 3
   },
   "file_extension": ".py",
   "mimetype": "text/x-python",
   "name": "python",
   "nbconvert_exporter": "python",
   "pygments_lexer": "ipython3",
   "version": "3.8.10"
  },
  "orig_nbformat": 4
 },
 "nbformat": 4,
 "nbformat_minor": 2
}
